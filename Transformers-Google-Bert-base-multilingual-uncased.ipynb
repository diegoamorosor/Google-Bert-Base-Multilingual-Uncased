{
  "cells": [
    {
      "cell_type": "markdown",
      "metadata": {
        "id": "LigX9QLUAplL"
      },
      "source": [
        "## Autor:Diego Amoroso\n",
        "## Modelo:bert-base-multilingual-uncased\n",
        "\n"
      ]
    },
    {
      "cell_type": "code",
      "execution_count": 1,
      "metadata": {
        "id": "g9H8ynG8_20y",
        "colab": {
          "base_uri": "https://localhost:8080/"
        },
        "outputId": "34036093-b62b-4fc3-b9b3-0022e607fabb"
      },
      "outputs": [
        {
          "output_type": "stream",
          "name": "stdout",
          "text": [
            "Requirement already satisfied: transformers in /usr/local/lib/python3.10/dist-packages (4.46.2)\n",
            "Requirement already satisfied: filelock in /usr/local/lib/python3.10/dist-packages (from transformers) (3.16.1)\n",
            "Requirement already satisfied: huggingface-hub<1.0,>=0.23.2 in /usr/local/lib/python3.10/dist-packages (from transformers) (0.26.2)\n",
            "Requirement already satisfied: numpy>=1.17 in /usr/local/lib/python3.10/dist-packages (from transformers) (1.26.4)\n",
            "Requirement already satisfied: packaging>=20.0 in /usr/local/lib/python3.10/dist-packages (from transformers) (24.2)\n",
            "Requirement already satisfied: pyyaml>=5.1 in /usr/local/lib/python3.10/dist-packages (from transformers) (6.0.2)\n",
            "Requirement already satisfied: regex!=2019.12.17 in /usr/local/lib/python3.10/dist-packages (from transformers) (2024.9.11)\n",
            "Requirement already satisfied: requests in /usr/local/lib/python3.10/dist-packages (from transformers) (2.32.3)\n",
            "Requirement already satisfied: safetensors>=0.4.1 in /usr/local/lib/python3.10/dist-packages (from transformers) (0.4.5)\n",
            "Requirement already satisfied: tokenizers<0.21,>=0.20 in /usr/local/lib/python3.10/dist-packages (from transformers) (0.20.3)\n",
            "Requirement already satisfied: tqdm>=4.27 in /usr/local/lib/python3.10/dist-packages (from transformers) (4.66.6)\n",
            "Requirement already satisfied: fsspec>=2023.5.0 in /usr/local/lib/python3.10/dist-packages (from huggingface-hub<1.0,>=0.23.2->transformers) (2024.10.0)\n",
            "Requirement already satisfied: typing-extensions>=3.7.4.3 in /usr/local/lib/python3.10/dist-packages (from huggingface-hub<1.0,>=0.23.2->transformers) (4.12.2)\n",
            "Requirement already satisfied: charset-normalizer<4,>=2 in /usr/local/lib/python3.10/dist-packages (from requests->transformers) (3.4.0)\n",
            "Requirement already satisfied: idna<4,>=2.5 in /usr/local/lib/python3.10/dist-packages (from requests->transformers) (3.10)\n",
            "Requirement already satisfied: urllib3<3,>=1.21.1 in /usr/local/lib/python3.10/dist-packages (from requests->transformers) (2.2.3)\n",
            "Requirement already satisfied: certifi>=2017.4.17 in /usr/local/lib/python3.10/dist-packages (from requests->transformers) (2024.8.30)\n"
          ]
        }
      ],
      "source": [
        "#Instalamos transformers\n",
        "\n",
        "!pip install transformers\n",
        "\n",
        "#Instalamos PyDrive\n",
        "!pip install -U -q PyDrive"
      ]
    },
    {
      "cell_type": "code",
      "execution_count": null,
      "metadata": {
        "id": "ywz3qBhW_-Iv"
      },
      "outputs": [],
      "source": [
        "#Instalamos PyDrive wrapper e importamos las librerias.\n",
        "\n",
        "from pydrive.auth import GoogleAuth\n",
        "from pydrive.drive import GoogleDrive\n",
        "from google.colab import auth\n",
        "from oauth2client.client import GoogleCredentials\n",
        "\n",
        "auth.authenticate_user() #Autenticar usuario google\n",
        "gauth = GoogleAuth()\n",
        "gauth.credentials = GoogleCredentials.get_application_default()\n",
        "drive = GoogleDrive(gauth)\n",
        "\n",
        "file_id = '#' #ID del archivo\n",
        "downloaded = drive.CreateFile({'id': file_id})"
      ]
    },
    {
      "cell_type": "code",
      "execution_count": null,
      "metadata": {
        "id": "zkmId4FgAAzJ"
      },
      "outputs": [],
      "source": [
        "# Descargamos en archivo en el disco local como '.xlsx'.\n",
        "\n",
        "downloaded.GetContentFile('DF-testmodels.xlsx')"
      ]
    },
    {
      "cell_type": "code",
      "execution_count": null,
      "metadata": {
        "id": "veOeTxovABfr"
      },
      "outputs": [],
      "source": [
        "# Ubicacion del archivo en el disco\n",
        "\n",
        "!ls -lha DF-testmodels.xlsx"
      ]
    },
    {
      "cell_type": "code",
      "execution_count": null,
      "metadata": {
        "id": "6fU1UEFeABmU"
      },
      "outputs": [],
      "source": [
        "# Usamos pandas read_excel despues de instalar la libreria para importar excel.\n",
        "!pip install -q xlrd\n",
        "\n",
        "import pandas as pd\n",
        "df = pd.read_excel('DF-testmodels.xlsx')\n",
        "\n",
        "\n",
        "lista_codaudio = list(df['ARCHIVO'])\n",
        "lista_texto = list(df['TEXTO'])\n",
        "print(lista_codaudio)\n",
        "print(lista_texto)\n",
        "\n"
      ]
    },
    {
      "cell_type": "code",
      "execution_count": null,
      "metadata": {
        "id": "8TwVLJ8GABr5"
      },
      "outputs": [],
      "source": [
        "#------------------------------FUNCIONES------------------------------\n",
        "\n",
        "\n",
        "#-------------------Funcion Convertir String---------------------\n",
        "def listToString(s):\n",
        "    str1 = \" \"\n",
        "\n",
        "    for ele in s:\n",
        "        str1 = str1 + \" \" + ele\n",
        "\n",
        "    return str1\n",
        "\n",
        "\n",
        "# Retorna una Lista con los codigos\n",
        "def GenId(v,num):\n",
        "  a = []\n",
        "  n = num\n",
        "  for i in range(len(v)):\n",
        "    pal=\"\"\n",
        "    if n < 10:\n",
        "      pal = \"da-0\" + str(n)\n",
        "      n += 1\n",
        "      a.append(pal)\n",
        "    else:\n",
        "      pal = \"da-\" + str(n)\n",
        "      n += 1\n",
        "      a.append(pal)\n",
        "\n",
        "  return a\n",
        "\n",
        "\n",
        "\n",
        "\n",
        "## Retorna una Lista con el Nombre\n",
        "def GenOwner(v):\n",
        "  a = []\n",
        "  for i in range(len(v)):\n",
        "    a.append(\"diego amoroso\")\n",
        "\n",
        "  return a\n",
        "\n",
        "\n",
        "\n",
        "## Retorna una Lista con el Modelo\n",
        "def GenModel(v):\n",
        "  a = []\n",
        "  b = []\n",
        "  for i in range(len(v)):\n",
        "    a.append(\"bert-base-multilingual-uncased \")\n",
        "\n",
        "  return a\n",
        "\n",
        "\n",
        "## Retorna una Lista con el La Version\n",
        "def GenVersion(v):\n",
        "  a = []\n",
        "  for i in range(len(v)):\n",
        "    a.append(\"1\")\n",
        "\n",
        "  return a\n",
        "\n",
        "\n",
        "\n",
        "## Retorna una Lista con word_Match\n",
        "def GenWordMatch(v,v2):\n",
        "  a = []\n",
        "  for i in range(len(v2)):\n",
        "    if v[i] == v2[i]:\n",
        "      a.append(\"1\")\n",
        "    else:\n",
        "      a.append(\"0\")\n",
        "  return a\n",
        "\n",
        "\n",
        "\n",
        "## Retorna una Lista con codigo del audio\n",
        "def GenCodAudio(posaudio,v,v2):#(posicion del audio, vector texto, vector audios)\n",
        "  a = []\n",
        "  for i in range(len(v)):\n",
        "    a.append(v2[posaudio])\n",
        "  return a\n",
        "\n",
        "## Retorna una Lista con la palabra\n",
        "def GenWord(palabra,v):\n",
        "  a = []\n",
        "  for i in range(len(v)):\n",
        "    a.append(palabra)\n",
        "  return a\n",
        "\n",
        "  ## Retorna una Lista con la cantidad de [MASK]\n",
        "def GenCantMask(v,v2):\n",
        "  a = []\n",
        "  for i in range(len(v)):\n",
        "    a.append(len(v2))\n",
        "  return a\n",
        "\n",
        "\n",
        "## Retorna una Lista con la posicion de la palabra\n",
        "def GenPosPal(j,v):\n",
        "  a = []\n",
        "\n",
        "  for i in range(len(v)):\n",
        "    a.append(str(j+1))\n",
        "  return a\n",
        "\n",
        "\n",
        "\n"
      ]
    },
    {
      "cell_type": "code",
      "execution_count": null,
      "metadata": {
        "id": "UBazrB2PABxR"
      },
      "outputs": [],
      "source": [
        "from transformers import pipeline\n",
        "\n",
        "#Creacion Dataframe Vacio\n",
        "import pandas as pd\n",
        "\n",
        "#importar libreria Time\n",
        "import time\n",
        "\n",
        "df = pd.DataFrame(columns=['id', 'owner','model','version','cod_audio','word','mask_qua','mask_num','word_pos','token','token_str','token_score','word_match'])\n",
        "\n",
        "\n",
        "\n",
        "i=0\n",
        "numero=1 # numero para el codigo GenId()\n",
        "\n",
        "for i in range(len(lista_texto)): #itera en un vector con todos los textos\n",
        "  txt = lista_texto[i]\n",
        "  vec_texto = txt.split()\n",
        "\n",
        "\n",
        "  unmasker = pipeline('fill-mask', model='bert-base-multilingual-uncased')\n",
        "\n",
        "  for j in range(len(vec_texto)): #itera en cada palabra del texto\n",
        "\n",
        "    start_time = time.time()\n",
        "\n",
        "    print(f\"Audio: { i }\\n\")\n",
        "    vec_texto = txt.split()\n",
        "    palabra = vec_texto[j]\n",
        "\n",
        "    vec_txtmask = vec_texto\n",
        "    vec_txtmask[j] = \"[MASK]\"\n",
        "    txt_mask = listToString(vec_txtmask)\n",
        "\n",
        "    print(f\"Texto Enmascarado:{txt_mask}\\n\")\n",
        "    lista_unmasked = unmasker(txt_mask)\n",
        "\n",
        "    lista_token = []\n",
        "    lista_token_str = []\n",
        "    lista_token_score = []\n",
        "\n",
        "    for k in range(len(lista_unmasked)):\n",
        "      diccionario_unmasked = lista_unmasked[k]\n",
        "\n",
        "      lista_token.append(diccionario_unmasked[\"token\"])\n",
        "      lista_token_str.append(diccionario_unmasked[\"token_str\"])\n",
        "      lista_token_score.append(diccionario_unmasked[\"score\"])\n",
        "\n",
        "\n",
        "    print(\"-----------------------------------------------------------------\")\n",
        "    print(f\"\\|Codigos: {GenId(lista_unmasked,numero)}\")\n",
        "    print(f\"\\|Nombres: {GenOwner(lista_unmasked)}\")\n",
        "    print(f\"\\|Modelos: {GenModel(lista_unmasked)}\")\n",
        "    print(f\"\\|Version: {GenVersion(lista_unmasked)}\")\n",
        "    print(f\"\\|Codig Audio: {GenCodAudio(i,lista_unmasked,lista_codaudio)}\")\n",
        "    print(f\"\\|word : {palabra} - {GenWord(palabra,lista_unmasked)}\")\n",
        "    print(f\"\\|Word match: {GenWordMatch(GenWord(palabra,lista_unmasked),lista_token_str)}\")\n",
        "    print(f\"\\|cantidad mask : {len(vec_texto)} - {GenCantMask(lista_unmasked,vec_texto)}\")\n",
        "    print(f\"\\|Posicion pal: { j } / {len(vec_texto)} - {GenPosPal(j,lista_unmasked)}\")\n",
        "    print(f\"\\|token : {lista_token}\")\n",
        "    print(f\"\\|token: str {lista_token_str}\")\n",
        "    print(f\"\\|token_score {lista_token_score} \")\n",
        "    print(\"-----------------------------------------------------------------\")\n",
        "    print(\"--- %s segundos ---\" % (time.time() - start_time))\n",
        "    print(\"\\n\")\n",
        "    print(\"\\n\")\n",
        "\n",
        "    #Agregar datos al dataframe\n",
        "    id = GenId(lista_unmasked,numero)\n",
        "    owner = GenOwner(lista_unmasked)\n",
        "    model = GenModel(lista_unmasked)\n",
        "    version = GenVersion(lista_unmasked)\n",
        "    cod_audio = GenCodAudio(i,lista_unmasked,lista_codaudio)\n",
        "    word = GenWord(palabra,lista_unmasked)\n",
        "    mask_qua = GenCantMask(lista_unmasked,vec_texto)\n",
        "    mask_num = GenPosPal(j,lista_unmasked)\n",
        "    word_pos = GenPosPal(j,lista_unmasked)\n",
        "    token = lista_token\n",
        "    token_str = lista_token_str\n",
        "    token_score = lista_token_score\n",
        "    word_match = GenWordMatch(GenWord(palabra,lista_unmasked),lista_token_str)\n",
        "\n",
        "    for it in range(len(id)):\n",
        "      dict_datos = {\n",
        "        \"id\" : id[it],\n",
        "        \"owner\" : owner[it],\n",
        "        \"model\" : model[it],\n",
        "        \"version\" : version[it],\n",
        "        \"cod_audio\" : cod_audio[it],\n",
        "        \"word\" : word[it],\n",
        "        \"mask_qua\" : mask_qua[it],\n",
        "        \"mask_num\" : mask_num[it],\n",
        "        \"word_pos\" : word_pos[it],\n",
        "        \"token\" : token[it],\n",
        "        \"token_str\" : token_str[it],\n",
        "        \"token_score\" : token_score[it],\n",
        "        \"word_match\" : word_match[it],\n",
        "      }\n",
        "      numero += 1\n",
        "      df = df.append(dict_datos,ignore_index=True)\n",
        "\n",
        "\n",
        "\n"
      ]
    },
    {
      "cell_type": "code",
      "execution_count": null,
      "metadata": {
        "id": "ty-PWvZWs95M"
      },
      "outputs": [],
      "source": [
        "#Exportar a excel\n",
        "\n",
        "df.to_excel('Bert-Model-Table.xlsx', index=False)"
      ]
    },
    {
      "cell_type": "code",
      "execution_count": null,
      "metadata": {
        "id": "Jz9D2lTzwyh8"
      },
      "outputs": [],
      "source": [
        "#Ubicacion archivo exportado en el Disco\n",
        "\n",
        "!ls -lha Bert-Model-Table.xlsx"
      ]
    },
    {
      "cell_type": "code",
      "execution_count": null,
      "metadata": {
        "id": "Du5vQtH1Xzjz"
      },
      "outputs": [],
      "source": [
        "#Montar Google Drive\n",
        "\n",
        "from google.colab import drive\n",
        "drive.mount('/content/drive')\n"
      ]
    },
    {
      "cell_type": "code",
      "execution_count": null,
      "metadata": {
        "id": "GxKl5P1IZzoi"
      },
      "outputs": [],
      "source": [
        "#Descarga en la maquina\n",
        "\n",
        "from google.colab import files\n",
        "files.download('Bert-Model-Table.xlsx')"
      ]
    }
  ],
  "metadata": {
    "colab": {
      "provenance": []
    },
    "gpuClass": "standard",
    "kernelspec": {
      "display_name": "Python 3",
      "name": "python3"
    },
    "language_info": {
      "name": "python"
    }
  },
  "nbformat": 4,
  "nbformat_minor": 0
}